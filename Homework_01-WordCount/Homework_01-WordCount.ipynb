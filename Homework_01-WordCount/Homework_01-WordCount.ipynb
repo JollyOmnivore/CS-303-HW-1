{
 "cells": [
  {
   "cell_type": "markdown",
   "id": "eaf21a2b",
   "metadata": {},
   "source": [
    "# import necessary modules"
   ]
  },
  {
   "cell_type": "code",
   "execution_count": 1,
   "id": "0ecadad5",
   "metadata": {},
   "outputs": [],
   "source": [
    "import operator"
   ]
  },
  {
   "cell_type": "markdown",
   "id": "11bfa639",
   "metadata": {},
   "source": [
    "# get file names from user"
   ]
  },
  {
   "cell_type": "code",
   "execution_count": 2,
   "id": "9e5bbd02",
   "metadata": {},
   "outputs": [
    {
     "name": "stdout",
     "output_type": "stream",
     "text": [
      "enter a filename: ItsyBitsySpider.txt\n"
     ]
    }
   ],
   "source": [
    "fileName = input('enter a filename: ')\n",
    "f = open(fileName)"
   ]
  },
  {
   "cell_type": "markdown",
   "id": "b7b5632d",
   "metadata": {},
   "source": [
    "# generate word counts of input file"
   ]
  },
  {
   "cell_type": "code",
   "execution_count": 3,
   "id": "debb38f7",
   "metadata": {
    "scrolled": true
   },
   "outputs": [],
   "source": [
    "lines = []\n",
    "for line in f:\n",
    "        line = line.strip()\n",
    "\n",
    "        lines.append(line)\n",
    "\n"
   ]
  },
  {
   "cell_type": "markdown",
   "id": "5fd79d36",
   "metadata": {},
   "source": [
    "# write word counts (sorted by word) to output file"
   ]
  },
  {
   "cell_type": "code",
   "execution_count": 4,
   "id": "a8d945d1",
   "metadata": {},
   "outputs": [],
   "source": [
    "worddic = {}\n",
    "for line in lines:\n",
    "        words = line.lower().split(' ')\n",
    "        for word in words:\n",
    "                if word in worddic.keys():\n",
    "                        worddic[word] += 1\n",
    "                else:\n",
    "                        worddic[word] = 1\n",
    "worddic= dict(sorted(worddic.items()))\n",
    "\n",
    "file = open(\"spiderWordCount.txt\" , 'w')\n",
    "wordcount = str(worddic)\n",
    "wordcountlist = wordcount.replace(\"'\" , \" \").split(',')\n",
    "for x in wordcountlist:\n",
    "        file.write(x)\n",
    "        file.write(\"\\n\")"
   ]
  },
  {
   "cell_type": "markdown",
   "id": "062114cf",
   "metadata": {},
   "source": [
    "# print word with max count"
   ]
  },
  {
   "cell_type": "code",
   "execution_count": 5,
   "id": "5a8ec5ff",
   "metadata": {},
   "outputs": [
    {
     "name": "stdout",
     "output_type": "stream",
     "text": [
      " 'the': 8\n"
     ]
    }
   ],
   "source": [
    "worddic = dict(sorted(worddic.items(),key=operator.itemgetter(1)))\n",
    "worddicstring = str(worddic)\n",
    "wordcountstinglist = worddicstring.replace(\"{\",\"\").split(',')\n",
    "y = len(wordcountstinglist)\n",
    "MAXWORD = wordcountstinglist[y-1]\n",
    "MAXWORD = MAXWORD.replace(\"}\",\"\")\n",
    "print(MAXWORD)"
   ]
  },
  {
   "cell_type": "code",
   "execution_count": null,
   "id": "a86dda35",
   "metadata": {},
   "outputs": [],
   "source": []
  }
 ],
 "metadata": {
  "kernelspec": {
   "display_name": "Python 3 (ipykernel)",
   "language": "python",
   "name": "python3"
  },
  "language_info": {
   "codemirror_mode": {
    "name": "ipython",
    "version": 3
   },
   "file_extension": ".py",
   "mimetype": "text/x-python",
   "name": "python",
   "nbconvert_exporter": "python",
   "pygments_lexer": "ipython3",
   "version": "3.9.13"
  }
 },
 "nbformat": 4,
 "nbformat_minor": 5
}
